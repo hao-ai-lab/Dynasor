{
 "cells": [
  {
   "cell_type": "code",
   "execution_count": 15,
   "metadata": {},
   "outputs": [],
   "source": [
    "import json\n",
    "import time\n",
    "\n",
    "import pandas as pd\n",
    "from openai import OpenAI\n",
    "from transformers import AutoTokenizer\n",
    "\n",
    "from entropy import count_not_empty, eqaul_group, obtaint_answer\n",
    "from evaluator import extract_answer, math_equal\n",
    "\n",
    "\n",
    "openai_api_key = \"dr32r34tnjnfkd\"\n",
    "openai_api_base = \"http://localhost:8000/v1\"\n",
    "model = 'deepseek-ai/DeepSeek-R1-Distill-Qwen-1.5B'\n",
    "\n",
    "client = OpenAI(api_key=openai_api_key, base_url=openai_api_base)\n",
    "tokenizer = AutoTokenizer.from_pretrained(model)\n",
    "\n",
    "\n",
    "def format_deepseek_prompt(user_message: str) -> str:\n",
    "    \"\"\"Format prompt with DeepSeek template\"\"\"\n",
    "    return f\"<｜begin▁of▁sentence｜><｜User｜>{user_message}<｜Assistant｜><think>\\n\"\n",
    "\n",
    "\n",
    "uncertain_words = ['wait', 'hold', 'but', 'okay', 'no', 'hmm']\n",
    "DEFAULT_PROBE_SUFFIX = '... Oh, I suddenly got the answer to the whole problem, **Final Answer**\\n\\n\\\\[ \\\\boxed{'\n",
    "DEFAULT_PROBE_SUFFIX_2 = '}\\n\\\\]' + \"\\n\"\n"
   ]
  },
  {
   "cell_type": "code",
   "execution_count": 16,
   "metadata": {},
   "outputs": [],
   "source": [
    "temperature = 0.7\n",
    "max_tokens = 1024"
   ]
  },
  {
   "cell_type": "code",
   "execution_count": 17,
   "metadata": {},
   "outputs": [],
   "source": [
    "user_message = \"2 + 2 = ?\""
   ]
  },
  {
   "cell_type": "code",
   "execution_count": 18,
   "metadata": {},
   "outputs": [],
   "source": [
    "prompt = format_deepseek_prompt(user_message)"
   ]
  },
  {
   "cell_type": "code",
   "execution_count": 19,
   "metadata": {},
   "outputs": [
    {
     "name": "stdout",
     "output_type": "stream",
     "text": [
      "Prompt: '<｜begin▁of▁sentence｜><｜User｜>2 + 2 = ?<｜Assistant｜><think>\\n'\n"
     ]
    },
    {
     "name": "stdout",
     "output_type": "stream",
     "text": [
      "Text: 'The user has asked a simple arithmetic question: \"2 + 2 = ?\". My goal is to provide a clear and accurate answer.\\n\\nFirst, I recognize'\n"
     ]
    }
   ],
   "source": [
    "answers = []\n",
    "history: list[str] = []\n",
    "\n",
    "\n",
    "# Maximum length of the prompt\n",
    "max_len = 2048\n",
    "# Window of the certainty answer to check against\n",
    "continue_certain_bar = 2\n",
    "# Number of tokens to detect\n",
    "detect_tokens = 32\n",
    "probe_suffix_text = DEFAULT_PROBE_SUFFIX\n",
    "probe_suffix_text_2 = DEFAULT_PROBE_SUFFIX_2\n",
    "\n",
    "\n",
    "\n",
    "print(f\"Prompt: {repr(prompt)}\")\n",
    "response = client.completions.create(\n",
    "    model=model,\n",
    "    prompt=prompt,\n",
    "    temperature=temperature,\n",
    "    max_tokens=detect_tokens, top_p=0.95,\n",
    ")\n",
    "text = response.choices[0].text\n",
    "print(f\"Text: {repr(text)}\")"
   ]
  },
  {
   "cell_type": "code",
   "execution_count": 21,
   "metadata": {},
   "outputs": [
    {
     "name": "stdout",
     "output_type": "stream",
     "text": [
      "Prompt: '<｜begin▁of▁sentence｜><｜User｜>2 + 2 = ?<｜Assistant｜><think>\\nThe user has asked a simple arithmetic question: \"2 + 2 = ?\". My goal is to provide a clear and accurate answer.\\n\\nFirst, I recognize... Oh, I suddenly got the answer to the whole problem, **Final Answer**\\n\\n\\\\[ \\\\boxed{'\n",
      "Text: '4} \\\\]\\n</think>\\n\\nTo solve the arithmetic problem \\\\(2 + 2 = ?\\\\),'\n"
     ]
    }
   ],
   "source": [
    "message_sending = prompt + text + probe_suffix_text\n",
    "print(f\"Prompt: {repr(message_sending)}\")\n",
    "probe_response = client.completions.create(\n",
    "    model=model,\n",
    "    temperature=0.6,\n",
    "    prompt=message_sending,\n",
    "    max_tokens=20, top_p=0.95,\n",
    ")\n",
    "text = probe_response.choices[0].text\n",
    "print(f\"Text: {repr(text)}\")"
   ]
  },
  {
   "cell_type": "code",
   "execution_count": 23,
   "metadata": {},
   "outputs": [
    {
     "name": "stdout",
     "output_type": "stream",
     "text": [
      "Answer: '4'\n"
     ]
    }
   ],
   "source": [
    "answer = obtaint_answer(text)\n",
    "print(f\"Answer: {repr(answer)}\")\n",
    "answers.append(answer)"
   ]
  },
  {
   "cell_type": "code",
   "execution_count": null,
   "metadata": {},
   "outputs": [],
   "source": []
  }
 ],
 "metadata": {
  "kernelspec": {
   "display_name": "dynasor",
   "language": "python",
   "name": "python3"
  },
  "language_info": {
   "codemirror_mode": {
    "name": "ipython",
    "version": 3
   },
   "file_extension": ".py",
   "mimetype": "text/x-python",
   "name": "python",
   "nbconvert_exporter": "python",
   "pygments_lexer": "ipython3",
   "version": "3.12.9"
  }
 },
 "nbformat": 4,
 "nbformat_minor": 2
}
